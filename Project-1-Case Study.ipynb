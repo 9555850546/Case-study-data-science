{
 "cells": [
  {
   "cell_type": "markdown",
   "id": "496551a9",
   "metadata": {},
   "source": [
    "# Question1 - Your Friend has developed the Product and he wants to establish the product startup and he is searching for a perfect location where getting the investment has a high chance. But due to its financial restriction, he can choose only between three locations -  Bangalore, Mumbai, and NCR. As a friend, you want to help your friend deciding the location. NCR include Gurgaon, Noida and New Delhi. Find the location where the most number of funding is done. That means, find the location where startups has received funding maximum number of times. Plot the bar graph between location and number of funding. Take city name \"Delhi\" as \"New Delhi\". Check the case-sensitiveness of cities also. That means, at some place instead of \"Bangalore\", \"bangalore\" is given. Take city name as \"Bangalore\". For few startups multiple locations are given, one Indian and one Foreign. Consider the startup if any one of the city lies in given locations."
   ]
  },
  {
   "cell_type": "code",
   "execution_count": null,
   "id": "9dbe2feb",
   "metadata": {},
   "outputs": [],
   "source": [
    "import pandas as pd\n",
    "import matplotlib.pyplot as plt\n",
    "import numpy as np\n",
    "%matplotlib inline\n",
    "df = pd.read_csv('startup_funding.csv')\n",
    "df['CityLocation'].dropna(inplace=True)\n",
    "city = df['CityLocation'].describe().top\n",
    "l = df['CityLocation']\n",
    "d={}\n",
    "\n",
    "for i in l:\n",
    "    s=str(i)\n",
    "    if '/' in s:\n",
    "        i = s.split('/')[0]\n",
    "        i=i.strip()\n",
    "    if i == 'Delhi':\n",
    "        i='New Delhi'\n",
    "    if i == 'bangalore':\n",
    "        i = 'Bangalore'\n",
    "    d[i] = d.get(i,0) + 1\n",
    "    \n",
    "    if ('/' in s) and (len(s.split('/'))>1):\n",
    "        i = s.split('/')[-1].strip()  \n",
    "        if(i=='Delhi'):\n",
    "            i = 'New Delhi'\n",
    "        if(i=='bangalore'):\n",
    "            i = 'Bangalore'\n",
    "        d[i] = d.get(i,0) + 1\n",
    "\n",
    "x = ['Mumbai','Bangalore','Gurgaon','Noida','New Delhi']\n",
    "y = [d['Mumbai'],d['Bangalore'],d['Gurgaon'],d['Noida'],d['New Delhi']]\n",
    "plt.bar(x,y)\n",
    "plt.ylabel('Number of fundings')\n",
    "plt.show()\n",
    "print(\"City with the highest number of fundings is\",city)\n"
   ]
  },
  {
   "cell_type": "markdown",
   "id": "ca68e4ed",
   "metadata": {},
   "source": [
    "# Question2 - Even after trying for so many times, your friend’s startup could not find the investment. So you decided to take this matter in your hand and try to find the list of investors who probably can invest in your friend’s startup. Your list will increase the chance of your friend startup getting some initial investment by contacting these investors. Find the top 5 investors who have invested maximum number of times (consider repeat investments in one company also). In a startup, multiple investors might have invested. So consider each investor for that startup. Ignore undisclosed investors."
   ]
  },
  {
   "cell_type": "code",
   "execution_count": 70,
   "id": "f94cded7",
   "metadata": {},
   "outputs": [
    {
     "name": "stdout",
     "output_type": "stream",
     "text": [
      "Sequoia Capital 72\n",
      "Accel Partners 68\n",
      " 58\n",
      "Kalaari Capital 50\n",
      "SAIF Partners 47\n"
     ]
    }
   ],
   "source": [
    "#following are the list top 5 investors\n",
    "\n",
    "df = pd.read_csv('startup_funding.csv')\n",
    "df = df.dropna(subset=['InvestorsName'])\n",
    "df = df[df.InvestorsName != 'Undisclosed Investors']\n",
    "\n",
    "d = {}\n",
    "for index,row in df.iterrows():\n",
    "    s = row['InvestorsName']\n",
    "    i = str(s)\n",
    "    \n",
    "    l = i.split(',')\n",
    "    \n",
    "    for j in l:\n",
    "        j = j.strip()\n",
    "        d[j] = d.get(j,0) + 1\n",
    "        \n",
    "count = 1\n",
    "for i in sorted(d, key=d.get, reverse=True):\n",
    "    print(i,d[i])\n",
    "    count += 1\n",
    "    if(count > 5):\n",
    "        break"
   ]
  },
  {
   "cell_type": "markdown",
   "id": "4b24229d",
   "metadata": {},
   "source": [
    "# Question 3 - After re-analysing the dataset you found out that some investors have invested in the same startup at different number of funding rounds. So before finalising the previous list, you want to improvise it by finding the top 5 investors who have invested in different number of startups. This list will be more helpful than your previous list in finding the investment for your friend startup. Find the top 5 investors who have invested maximum number of times in different companies. That means, if one investor has invested multiple times in one startup, count one for that company. There are many errors in startup names. Ignore correcting all, just handle the important ones - Ola, Flipkart, Oyo and Paytm."
   ]
  },
  {
   "cell_type": "code",
   "execution_count": 74,
   "id": "70f28e84",
   "metadata": {},
   "outputs": [
    {
     "name": "stdout",
     "output_type": "stream",
     "text": [
      "InvestorsName\n",
      "Accel Partners          59\n",
      "Sequoia Capital         53\n",
      "Kalaari Capital         47\n",
      "Blume Ventures          43\n",
      "Indian Angel Network    41\n",
      "Name: StartupName, dtype: int64\n"
     ]
    }
   ],
   "source": [
    "# First I cleaned the data for startup names. Then I made a new dataframe containing seperate investors with the startup they funded in Then I counted unique startups associated with each investor using groupby function\n",
    "df = pd.read_csv('startup_funding.csv')\n",
    " \n",
    "df=df.dropna(subset=['InvestorsName', 'StartupName'])\n",
    "df = df[df.InvestorsName != 'Undisclosed Investors']\n",
    "\n",
    "df['StartupName'].replace('Ola Cabs','Ola',inplace=True)\n",
    "df['StartupName'].replace('Flipkart.com','Flipkart',inplace=True)\n",
    "df['StartupName'].replace('Paytm Marketplace','Paytm',inplace=True)\n",
    "df['StartupName'].replace('Oyo Rooms','Oyo',inplace=True)\n",
    "df['StartupName'].replace('Oyorooms','Oyo',inplace=True)\n",
    "df['StartupName'].replace('OyoRooms','Oyo',inplace=True)\n",
    "df['StartupName'].replace('OYO Rooms','Oyo',inplace=True)\n",
    "\n",
    "inv = []\n",
    "start = []\n",
    "\n",
    "for index,row in df.iterrows():\n",
    "    s = row['InvestorsName']\n",
    "    v = row['StartupName']\n",
    "    \n",
    "    i = str(s)\n",
    "    l = i.split(',')\n",
    "    \n",
    "    for j in l:\n",
    "        if j != '':\n",
    "            j = j.strip()\n",
    "            inv.append(j)\n",
    "            start.append(v)\n",
    "\n",
    "df1 = pd.DataFrame({\n",
    "    'InvestorsName' : inv,\n",
    "    'StartupName' : start\n",
    "})\n",
    "\n",
    "df1 = df1.groupby('InvestorsName')['StartupName'].nunique()\n",
    "\n",
    "df1 = df1.sort_values(ascending = False)\n",
    "print(df1.head(5))"
   ]
  },
  {
   "cell_type": "markdown",
   "id": "3d0aabd6",
   "metadata": {},
   "source": [
    "# Question 4 - Even after putting so much effort in finding the probable investors, it didn't turn out to be helpful for your friend. So you went to your investor friend to understand the situation better and your investor friend explained to you about the different Investment Types and their features. This new information will be helpful in finding the right investor. Since your friend startup is at an early stage startup, the best-suited investment type would be - Seed Funding and Crowdfunding. Find the top 5 investors who have invested in a different number of startups and their investment type is Crowdfunding or Seed Funding. Correct spelling of investment types are - \"Private Equity\", \"Seed Funding\", \"Debt Funding\", and \"Crowd Funding\". Keep an eye for any spelling mistake. You can find this by printing unique values from this column. There are many errors in startup names. Ignore correcting all, just handle the important ones - Ola, Flipkart, Oyo and Paytm."
   ]
  },
  {
   "cell_type": "code",
   "execution_count": 76,
   "id": "dad516f1",
   "metadata": {},
   "outputs": [
    {
     "name": "stdout",
     "output_type": "stream",
     "text": [
      "InvestorsName\n",
      "Indian Angel Network    33\n",
      "Rajan Anandan           24\n",
      "LetsVenture             16\n",
      "Anupam Mittal           16\n",
      "Kunal Shah              14\n",
      "Name: StartupName, dtype: int64\n"
     ]
    }
   ],
   "source": [
    "# First I cleaned the data for startup names and investors and investment type. \n",
    "# Then I made a new dataframe containing seperate investors with the startup they funded in \n",
    "# Then I counted unique startups associated with each investor using groupby function\n",
    "\n",
    "df = pd.read_csv('startup_funding.csv')\n",
    "df=df.dropna(subset=['InvestorsName', 'StartupName'])\n",
    "df = df[df.InvestorsName != 'Undisclosed Investors']\n",
    "df = df[df.InvestorsName != 'Undisclosed investors']\n",
    "\n",
    "\n",
    "df['StartupName'].replace('Ola Cabs','Ola',inplace=True)\n",
    "df['StartupName'].replace('Flipkart.com','Flipkart',inplace=True)\n",
    "df['StartupName'].replace('Paytm Marketplace','Paytm',inplace=True)\n",
    "df['StartupName'].replace('Oyo Rooms','Oyo',inplace=True)\n",
    "df['StartupName'].replace('Oyorooms','Oyo',inplace=True)\n",
    "df['StartupName'].replace('OyoRooms','Oyo',inplace=True)\n",
    "df['StartupName'].replace('OYO Rooms','Oyo',inplace=True)\n",
    "\n",
    "df['InvestmentType'].replace('PrivateEquity','Private Equity',inplace=True)\n",
    "df['InvestmentType'].replace('SeedFunding','Seed Funding',inplace=True)\n",
    "df['InvestmentType'].replace('Crowd funding','Crowd Funding',inplace=True)\n",
    "\n",
    "df = df[(df.InvestmentType == 'Crowd Funding') | (df.InvestmentType == 'Seed Funding')]\n",
    "\n",
    "inv = []\n",
    "start = []\n",
    "\n",
    "for index,row in df.iterrows():\n",
    "    s = row['InvestorsName']\n",
    "    v = row['StartupName']\n",
    "    \n",
    "    i = str(s)\n",
    "    l = i.split(',')\n",
    "    \n",
    "    for j in l:\n",
    "        if j != '':\n",
    "            j = j.strip()\n",
    "            inv.append(j)\n",
    "            start.append(v)\n",
    "\n",
    "df1 = pd.DataFrame({\n",
    "    'InvestorsName' : inv,\n",
    "    'StartupName' : start\n",
    "})\n",
    "\n",
    "df1 = df1.groupby('InvestorsName')['StartupName'].nunique()\n",
    "\n",
    "df1 = df1.sort_values(ascending = False)\n",
    "print(df1.head(5))"
   ]
  },
  {
   "cell_type": "markdown",
   "id": "41794d14",
   "metadata": {},
   "source": [
    "# Question 5 - Due to your immense help, your friend startup successfully got seed funding and it is on the operational mode. Now your friend wants to expand his startup and he is looking for new investors for his startup. Now you again come as a saviour to help your friend and want to create a list of probable new new investors. Before moving forward you remember your investor friend advice that finding the investors by analysing the investment type. Since your friend startup is not in early phase it is in growth stage so the best-suited investment type is Private Equity. Find the top 5 investors who have invested in a different number of startups and their investment type is Private Equity. Correct spelling of investment types are - \"Private Equity\", \"Seed Funding\", \"Debt Funding\", and \"Crowd Funding\". Keep an eye for any spelling mistake. You can find this by printing unique values from this column. There are many errors in startup names. Ignore correcting all, just handle the important ones - Ola, Flipkart, Oyo and Paytm."
   ]
  },
  {
   "cell_type": "code",
   "execution_count": 77,
   "id": "cafdd6dd",
   "metadata": {},
   "outputs": [
    {
     "name": "stdout",
     "output_type": "stream",
     "text": [
      "InvestorsName\n",
      "Accel Partners     53\n",
      "Sequoia Capital    49\n",
      "Kalaari Capital    39\n",
      "Blume Ventures     31\n",
      "SAIF Partners      26\n",
      "Name: StartupName, dtype: int64\n"
     ]
    }
   ],
   "source": [
    "# First I cleaned the data for startup names and investors and investment type. \n",
    "# Then I made a new dataframe containing seperate investors with the startup they funded in\n",
    "# Then I counted unique startups associated with each investor using groupby function\n",
    "\n",
    "df = pd.read_csv('startup_funding.csv')\n",
    " \n",
    "df=df.dropna(subset=['InvestorsName', 'StartupName'])\n",
    "df = df[df.InvestorsName != 'Undisclosed Investors']\n",
    "df = df[df.InvestorsName != 'Undisclosed investors']\n",
    "\n",
    "\n",
    "df['StartupName'].replace('Ola Cabs','Ola',inplace=True)\n",
    "df['StartupName'].replace('Flipkart.com','Flipkart',inplace=True)\n",
    "df['StartupName'].replace('Paytm Marketplace','Paytm',inplace=True)\n",
    "df['StartupName'].replace('Oyo Rooms','Oyo',inplace=True)\n",
    "df['StartupName'].replace('Oyorooms','Oyo',inplace=True)\n",
    "df['StartupName'].replace('OyoRooms','Oyo',inplace=True)\n",
    "df['StartupName'].replace('OYO Rooms','Oyo',inplace=True)\n",
    "\n",
    "df['InvestmentType'].replace('PrivateEquity','Private Equity',inplace=True)\n",
    "df['InvestmentType'].replace('SeedFunding','Seed Funding',inplace=True)\n",
    "df['InvestmentType'].replace('Crowd funding','Crowd Funding',inplace=True)\n",
    "\n",
    "df = df[(df.InvestmentType == 'Private Equity')]\n",
    "\n",
    "inv = []\n",
    "start = []\n",
    "\n",
    "for index,row in df.iterrows():\n",
    "    s = row['InvestorsName']\n",
    "    v = row['StartupName']\n",
    "    \n",
    "    i = str(s)\n",
    "    l = i.split(',')\n",
    "    \n",
    "    for j in l:\n",
    "        if j != '':\n",
    "            j = j.strip()\n",
    "            inv.append(j)\n",
    "            start.append(v)\n",
    "\n",
    "df1 = pd.DataFrame({\n",
    "    'InvestorsName' : inv,\n",
    "    'StartupName' : start\n",
    "})\n",
    "\n",
    "df1 = df1.groupby('InvestorsName')['StartupName'].nunique()\n",
    "\n",
    "df1 = df1.sort_values(ascending = False)\n",
    "print(df1.head(5))"
   ]
  }
 ],
 "metadata": {
  "kernelspec": {
   "display_name": "Python 3 (ipykernel)",
   "language": "python",
   "name": "python3"
  },
  "language_info": {
   "codemirror_mode": {
    "name": "ipython",
    "version": 3
   },
   "file_extension": ".py",
   "mimetype": "text/x-python",
   "name": "python",
   "nbconvert_exporter": "python",
   "pygments_lexer": "ipython3",
   "version": "3.9.13"
  }
 },
 "nbformat": 4,
 "nbformat_minor": 5
}
